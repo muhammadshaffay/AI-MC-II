{
  "cells": [
    {
      "cell_type": "code",
      "execution_count": 19,
      "metadata": {
        "id": "JVpZMpKnmB_O"
      },
      "outputs": [],
      "source": [
        "!pip install -r requirements.txt"
      ]
    },
    {
      "cell_type": "code",
      "execution_count": 1,
      "metadata": {
        "id": "_NHEE2teZ0TU"
      },
      "outputs": [],
      "source": [
        "import os, random, datetime\n",
        "from sklearn.cluster import KMeans\n",
        "import numpy as np, pandas as pd, seaborn as sns, matplotlib.pyplot as plt\n",
        "from sklearn.preprocessing import LabelEncoder, StandardScaler"
      ]
    },
    {
      "cell_type": "code",
      "execution_count": 2,
      "metadata": {},
      "outputs": [],
      "source": [
        "from functions.functions import map_to_alphabet, assign_time_label, find_birthday, top_ordered_items, get_discount, extract_last_4_digits\n",
        "from functions.functions import initialize_chain, birthday_message, special_day_offer, cluster_based_offer, churn_message\n",
        "from functions.functions import top_item_finder, churn_verifier, generate_birthdays, convert_to_orderwise"
      ]
    },
    {
      "cell_type": "code",
      "execution_count": 3,
      "metadata": {},
      "outputs": [],
      "source": [
        "import warnings\n",
        "warnings.filterwarnings(\"ignore\")"
      ]
    },
    {
      "cell_type": "markdown",
      "metadata": {
        "id": "jvOuxdimfqGM"
      },
      "source": [
        "# Prepping the Dataset"
      ]
    },
    {
      "cell_type": "markdown",
      "metadata": {
        "id": "U-JtqQMHgOtk"
      },
      "source": [
        "### Reading Dataframe"
      ]
    },
    {
      "cell_type": "code",
      "execution_count": 4,
      "metadata": {
        "colab": {
          "base_uri": "https://localhost:8080/",
          "height": 206
        },
        "id": "wIZbvFHGfvM3",
        "outputId": "1ef9468b-7e2a-4c95-bde0-000234973fd0"
      },
      "outputs": [
        {
          "data": {
            "text/html": [
              "<div>\n",
              "<style scoped>\n",
              "    .dataframe tbody tr th:only-of-type {\n",
              "        vertical-align: middle;\n",
              "    }\n",
              "\n",
              "    .dataframe tbody tr th {\n",
              "        vertical-align: top;\n",
              "    }\n",
              "\n",
              "    .dataframe thead th {\n",
              "        text-align: right;\n",
              "    }\n",
              "</style>\n",
              "<table border=\"1\" class=\"dataframe\">\n",
              "  <thead>\n",
              "    <tr style=\"text-align: right;\">\n",
              "      <th></th>\n",
              "      <th>Menu Item</th>\n",
              "      <th>Modifiers</th>\n",
              "      <th>Price</th>\n",
              "      <th>Qty</th>\n",
              "      <th>Discount</th>\n",
              "      <th>Net</th>\n",
              "      <th>Tax</th>\n",
              "      <th>Total</th>\n",
              "      <th>Voided?</th>\n",
              "      <th>Reason</th>\n",
              "      <th>Refund Qty</th>\n",
              "      <th>Refund</th>\n",
              "      <th>Last 4 Card Digits</th>\n",
              "      <th>Order Date</th>\n",
              "      <th>Tip</th>\n",
              "      <th>Gratuity</th>\n",
              "    </tr>\n",
              "  </thead>\n",
              "  <tbody>\n",
              "    <tr>\n",
              "      <th>0</th>\n",
              "      <td>Margarita Rock Flight</td>\n",
              "      <td>Salt</td>\n",
              "      <td>$24.00</td>\n",
              "      <td>1.0</td>\n",
              "      <td>$0.00</td>\n",
              "      <td>$24.00</td>\n",
              "      <td>$2.250</td>\n",
              "      <td>$26.25</td>\n",
              "      <td>False</td>\n",
              "      <td>NaN</td>\n",
              "      <td>0</td>\n",
              "      <td>$0.00</td>\n",
              "      <td>3108</td>\n",
              "      <td>2023-12-08 18:46:00</td>\n",
              "      <td>$6.86</td>\n",
              "      <td>$45.71</td>\n",
              "    </tr>\n",
              "    <tr>\n",
              "      <th>1</th>\n",
              "      <td>Margarita Rock Flight</td>\n",
              "      <td>Salt</td>\n",
              "      <td>$24.00</td>\n",
              "      <td>1.0</td>\n",
              "      <td>$0.00</td>\n",
              "      <td>$24.00</td>\n",
              "      <td>$2.250</td>\n",
              "      <td>$26.25</td>\n",
              "      <td>False</td>\n",
              "      <td>NaN</td>\n",
              "      <td>0</td>\n",
              "      <td>$0.00</td>\n",
              "      <td>3108</td>\n",
              "      <td>2023-12-08 18:46:00</td>\n",
              "      <td>$6.86</td>\n",
              "      <td>$45.71</td>\n",
              "    </tr>\n",
              "    <tr>\n",
              "      <th>2</th>\n",
              "      <td>Mojito Flight</td>\n",
              "      <td>NaN</td>\n",
              "      <td>$24.00</td>\n",
              "      <td>1.0</td>\n",
              "      <td>$0.00</td>\n",
              "      <td>$24.00</td>\n",
              "      <td>$2.250</td>\n",
              "      <td>$26.25</td>\n",
              "      <td>False</td>\n",
              "      <td>NaN</td>\n",
              "      <td>0</td>\n",
              "      <td>$0.00</td>\n",
              "      <td>3108</td>\n",
              "      <td>2023-12-08 18:46:00</td>\n",
              "      <td>$6.86</td>\n",
              "      <td>$45.71</td>\n",
              "    </tr>\n",
              "    <tr>\n",
              "      <th>3</th>\n",
              "      <td>Mojito Flight</td>\n",
              "      <td>NaN</td>\n",
              "      <td>$24.00</td>\n",
              "      <td>1.0</td>\n",
              "      <td>$0.00</td>\n",
              "      <td>$24.00</td>\n",
              "      <td>$2.250</td>\n",
              "      <td>$26.25</td>\n",
              "      <td>False</td>\n",
              "      <td>NaN</td>\n",
              "      <td>0</td>\n",
              "      <td>$0.00</td>\n",
              "      <td>3108</td>\n",
              "      <td>2023-12-08 18:46:00</td>\n",
              "      <td>$6.86</td>\n",
              "      <td>$45.71</td>\n",
              "    </tr>\n",
              "    <tr>\n",
              "      <th>4</th>\n",
              "      <td>Mojito Flight</td>\n",
              "      <td>NaN</td>\n",
              "      <td>$24.00</td>\n",
              "      <td>1.0</td>\n",
              "      <td>$0.00</td>\n",
              "      <td>$24.00</td>\n",
              "      <td>$2.250</td>\n",
              "      <td>$26.25</td>\n",
              "      <td>False</td>\n",
              "      <td>NaN</td>\n",
              "      <td>0</td>\n",
              "      <td>$0.00</td>\n",
              "      <td>3108</td>\n",
              "      <td>2023-12-08 18:46:00</td>\n",
              "      <td>$6.86</td>\n",
              "      <td>$45.71</td>\n",
              "    </tr>\n",
              "  </tbody>\n",
              "</table>\n",
              "</div>"
            ],
            "text/plain": [
              "               Menu Item Modifiers   Price  Qty Discount     Net     Tax  \\\n",
              "0  Margarita Rock Flight      Salt  $24.00  1.0    $0.00  $24.00  $2.250   \n",
              "1  Margarita Rock Flight      Salt  $24.00  1.0    $0.00  $24.00  $2.250   \n",
              "2          Mojito Flight       NaN  $24.00  1.0    $0.00  $24.00  $2.250   \n",
              "3          Mojito Flight       NaN  $24.00  1.0    $0.00  $24.00  $2.250   \n",
              "4          Mojito Flight       NaN  $24.00  1.0    $0.00  $24.00  $2.250   \n",
              "\n",
              "    Total Voided? Reason Refund Qty Refund Last 4 Card Digits  \\\n",
              "0  $26.25   False    NaN          0  $0.00               3108   \n",
              "1  $26.25   False    NaN          0  $0.00               3108   \n",
              "2  $26.25   False    NaN          0  $0.00               3108   \n",
              "3  $26.25   False    NaN          0  $0.00               3108   \n",
              "4  $26.25   False    NaN          0  $0.00               3108   \n",
              "\n",
              "            Order Date    Tip Gratuity  \n",
              "0  2023-12-08 18:46:00  $6.86   $45.71  \n",
              "1  2023-12-08 18:46:00  $6.86   $45.71  \n",
              "2  2023-12-08 18:46:00  $6.86   $45.71  \n",
              "3  2023-12-08 18:46:00  $6.86   $45.71  \n",
              "4  2023-12-08 18:46:00  $6.86   $45.71  "
            ]
          },
          "execution_count": 4,
          "metadata": {},
          "output_type": "execute_result"
        }
      ],
      "source": [
        "ungrouped = pd.read_csv(\"data/Marketing_data.csv\", index_col=0)\n",
        "ungrouped['Last 4 Card Digits'] = ungrouped['Last 4 Card Digits'].astype(str).str.split('.').str[0].str.zfill(4)\n",
        "ungrouped = ungrouped[ungrouped['Voided?'] != 'True']\n",
        "ungrouped.head(5)"
      ]
    },
    {
      "cell_type": "markdown",
      "metadata": {
        "id": "vU5oInl2qFAp"
      },
      "source": [
        "### Generating Random Birthdays"
      ]
    },
    {
      "cell_type": "code",
      "execution_count": 5,
      "metadata": {
        "colab": {
          "base_uri": "https://localhost:8080/",
          "height": 206
        },
        "id": "DA4ZWLfZqKS5",
        "outputId": "55228375-f9c7-4745-a67d-7900a5b7b070"
      },
      "outputs": [],
      "source": [
        "ungrouped['Birthday'] = generate_birthdays(ungrouped)"
      ]
    },
    {
      "cell_type": "markdown",
      "metadata": {
        "id": "4jw9Y3Z0qzPf"
      },
      "source": [
        "### Generating Random Names"
      ]
    },
    {
      "cell_type": "code",
      "execution_count": 6,
      "metadata": {
        "colab": {
          "base_uri": "https://localhost:8080/",
          "height": 310
        },
        "id": "H34kDPnVrF_G",
        "outputId": "f7dc40ae-c4fd-4391-d525-bb50d7ef8b9f"
      },
      "outputs": [],
      "source": [
        "ungrouped['Name'] = ungrouped['Last 4 Card Digits'].apply(map_to_alphabet)"
      ]
    },
    {
      "cell_type": "markdown",
      "metadata": {
        "id": "hPiGJzHlgZIx"
      },
      "source": [
        "### Orderwise Data"
      ]
    },
    {
      "cell_type": "code",
      "execution_count": 7,
      "metadata": {
        "colab": {
          "base_uri": "https://localhost:8080/",
          "height": 206
        },
        "id": "LVRBEXB1gFmc",
        "outputId": "e971383a-9db0-4d71-b432-783fee95352f"
      },
      "outputs": [
        {
          "data": {
            "text/html": [
              "<div>\n",
              "<style scoped>\n",
              "    .dataframe tbody tr th:only-of-type {\n",
              "        vertical-align: middle;\n",
              "    }\n",
              "\n",
              "    .dataframe tbody tr th {\n",
              "        vertical-align: top;\n",
              "    }\n",
              "\n",
              "    .dataframe thead th {\n",
              "        text-align: right;\n",
              "    }\n",
              "</style>\n",
              "<table border=\"1\" class=\"dataframe\">\n",
              "  <thead>\n",
              "    <tr style=\"text-align: right;\">\n",
              "      <th></th>\n",
              "      <th>Last 4 Card Digits</th>\n",
              "      <th>Order Date</th>\n",
              "      <th>Menu Item</th>\n",
              "      <th>Qty</th>\n",
              "      <th>Total</th>\n",
              "      <th>Tip</th>\n",
              "    </tr>\n",
              "  </thead>\n",
              "  <tbody>\n",
              "    <tr>\n",
              "      <th>0</th>\n",
              "      <td>0000</td>\n",
              "      <td>2024-02-03 14:17:00</td>\n",
              "      <td>Frozen Margarita Flight, Frozen Margarita Flig...</td>\n",
              "      <td>5.0</td>\n",
              "      <td>91.89</td>\n",
              "      <td>11.00</td>\n",
              "    </tr>\n",
              "    <tr>\n",
              "      <th>1</th>\n",
              "      <td>0004</td>\n",
              "      <td>2024-01-14 17:45:00</td>\n",
              "      <td>Martini Flight, Chicken Wing Flight</td>\n",
              "      <td>2.0</td>\n",
              "      <td>51.36</td>\n",
              "      <td>35.00</td>\n",
              "    </tr>\n",
              "    <tr>\n",
              "      <th>2</th>\n",
              "      <td>0010</td>\n",
              "      <td>2023-11-20 18:28:00</td>\n",
              "      <td>Skewer Flight, Jack Daniels</td>\n",
              "      <td>2.0</td>\n",
              "      <td>37.12</td>\n",
              "      <td>13.83</td>\n",
              "    </tr>\n",
              "    <tr>\n",
              "      <th>3</th>\n",
              "      <td>0010</td>\n",
              "      <td>2023-12-07 19:35:00</td>\n",
              "      <td>Margarita Rock Flight, Beer Flight, Hummus, Mi...</td>\n",
              "      <td>36.0</td>\n",
              "      <td>692.74</td>\n",
              "      <td>0.00</td>\n",
              "    </tr>\n",
              "    <tr>\n",
              "      <th>4</th>\n",
              "      <td>0010</td>\n",
              "      <td>2024-02-24 19:26:00</td>\n",
              "      <td>Fry Flight, Ahi Tuna Taco Flight, Frozen Marga...</td>\n",
              "      <td>3.0</td>\n",
              "      <td>64.42</td>\n",
              "      <td>22.71</td>\n",
              "    </tr>\n",
              "  </tbody>\n",
              "</table>\n",
              "</div>"
            ],
            "text/plain": [
              "  Last 4 Card Digits           Order Date  \\\n",
              "0               0000  2024-02-03 14:17:00   \n",
              "1               0004  2024-01-14 17:45:00   \n",
              "2               0010  2023-11-20 18:28:00   \n",
              "3               0010  2023-12-07 19:35:00   \n",
              "4               0010  2024-02-24 19:26:00   \n",
              "\n",
              "                                           Menu Item   Qty   Total    Tip  \n",
              "0  Frozen Margarita Flight, Frozen Margarita Flig...   5.0   91.89  11.00  \n",
              "1                Martini Flight, Chicken Wing Flight   2.0   51.36  35.00  \n",
              "2                        Skewer Flight, Jack Daniels   2.0   37.12  13.83  \n",
              "3  Margarita Rock Flight, Beer Flight, Hummus, Mi...  36.0  692.74   0.00  \n",
              "4  Fry Flight, Ahi Tuna Taco Flight, Frozen Marga...   3.0   64.42  22.71  "
            ]
          },
          "execution_count": 7,
          "metadata": {},
          "output_type": "execute_result"
        }
      ],
      "source": [
        "grouped = convert_to_orderwise(ungrouped)\n",
        "grouped.head(5)"
      ]
    },
    {
      "cell_type": "markdown",
      "metadata": {
        "id": "zF7xEgUsPQi3"
      },
      "source": [
        "# Task-1 : AI-Driven Marketing"
      ]
    },
    {
      "cell_type": "markdown",
      "metadata": {
        "id": "24efdKhzPIai"
      },
      "source": [
        "## A) Basic Automation for Engagement"
      ]
    },
    {
      "cell_type": "markdown",
      "metadata": {
        "id": "0pAM1QP3Ohc3"
      },
      "source": [
        "### Point - 1 : Automated Functions"
      ]
    },
    {
      "cell_type": "code",
      "execution_count": 8,
      "metadata": {
        "id": "2BBAsM8GYAkW"
      },
      "outputs": [],
      "source": [
        "def top_item_finder():\n",
        "\n",
        "  # Item Data to get the price and categoy of the Items\n",
        "  item_data = pd.read_excel('data/Campbell Menu Data - 2.xlsx', index_col=0)\n",
        "\n",
        "  # Rename the column 'itemName' to 'Menu Item'\n",
        "  item_data.rename(columns={\"itemName\": \"Menu Item\"}, inplace=True)\n",
        "  ungrouped_data = pd.read_csv('data/Marketing_data.csv', index_col=0)\n",
        "  category_dict = item_data.groupby('Category')['Menu Item'].apply(list).to_dict()\n",
        "  itemp = item_data.groupby('Menu Item')['itemPrice'].apply(list).to_dict()\n",
        "\n",
        "  for category, items in category_dict.items():\n",
        "      ungrouped_data.loc[ungrouped_data['Menu Item'].isin(items), 'Category'] = category\n",
        "\n",
        "  for item, price in itemp.items():\n",
        "    ungrouped_data.loc[ungrouped_data['Menu Item'] == item, 'ItemPrice'] = price[0]\n",
        "\n",
        "  top_items = []\n",
        "  for cat in ['Entrées','Flights Cocktails','Brunch Food','Desserts']:\n",
        "    top_items.append(list(ungrouped_data[ungrouped_data.Category == cat]['Menu Item'].value_counts().to_dict().keys())[0])\n",
        "\n",
        "  top_items = list(set(top_items))\n",
        "  prices = []\n",
        "  for i in top_items:\n",
        "    prices.append(ungrouped_data[ungrouped_data['Menu Item'] == i].ItemPrice.values[0])\n",
        "\n",
        "  return top_items, prices"
      ]
    },
    {
      "cell_type": "markdown",
      "metadata": {
        "id": "c5RGJyOPO44P"
      },
      "source": [
        "### Point - 2 : Clustering"
      ]
    },
    {
      "cell_type": "code",
      "execution_count": 9,
      "metadata": {
        "colab": {
          "base_uri": "https://localhost:8080/",
          "height": 206
        },
        "id": "t7vlQJcNPBCn",
        "outputId": "f458819b-75bb-4aa4-c6cf-0882028eeb87"
      },
      "outputs": [],
      "source": [
        "# Remove the specified rows & Reindex\n",
        "rows_to_remove = [468, 2212]\n",
        "grouped = grouped.drop(index=rows_to_remove)\n",
        "\n",
        "grouped = grouped.reset_index(drop=True)"
      ]
    },
    {
      "cell_type": "markdown",
      "metadata": {
        "id": "m_JauS60lF_Q"
      },
      "source": [
        "#### 1. Clustring based on Spending Patterns"
      ]
    },
    {
      "cell_type": "markdown",
      "metadata": {
        "id": "OabR1aoCkRzf"
      },
      "source": [
        "##### Feature Engineering"
      ]
    },
    {
      "cell_type": "code",
      "execution_count": 10,
      "metadata": {
        "id": "cKo0djcKki5T"
      },
      "outputs": [],
      "source": [
        "def assign_label(avg_spending):\n",
        "    \"\"\"\n",
        "    Assigns a label based on the average spending compared to percentiles.\n",
        "    \"\"\"\n",
        "    if avg_spending < percentiles * 0.5:\n",
        "        return 'Economy'\n",
        "    elif avg_spending > percentiles * 1.5:\n",
        "        return 'Premium'\n",
        "    else:\n",
        "        return 'Standard'"
      ]
    },
    {
      "cell_type": "code",
      "execution_count": 11,
      "metadata": {
        "colab": {
          "base_uri": "https://localhost:8080/",
          "height": 206
        },
        "id": "N9pdEr-BPA-0",
        "outputId": "9ccbe875-2e76-4a69-9a63-c771127828e0"
      },
      "outputs": [
        {
          "data": {
            "text/html": [
              "<div>\n",
              "<style scoped>\n",
              "    .dataframe tbody tr th:only-of-type {\n",
              "        vertical-align: middle;\n",
              "    }\n",
              "\n",
              "    .dataframe tbody tr th {\n",
              "        vertical-align: top;\n",
              "    }\n",
              "\n",
              "    .dataframe thead th {\n",
              "        text-align: right;\n",
              "    }\n",
              "</style>\n",
              "<table border=\"1\" class=\"dataframe\">\n",
              "  <thead>\n",
              "    <tr style=\"text-align: right;\">\n",
              "      <th></th>\n",
              "      <th>Last 4 Card Digits</th>\n",
              "      <th>Order Date</th>\n",
              "      <th>Menu Item</th>\n",
              "      <th>Qty</th>\n",
              "      <th>Total</th>\n",
              "      <th>Tip</th>\n",
              "      <th>Orderer Type</th>\n",
              "    </tr>\n",
              "  </thead>\n",
              "  <tbody>\n",
              "    <tr>\n",
              "      <th>0</th>\n",
              "      <td>0000</td>\n",
              "      <td>2024-02-03 14:17:00</td>\n",
              "      <td>Frozen Margarita Flight, Frozen Margarita Flig...</td>\n",
              "      <td>5.0</td>\n",
              "      <td>91.89</td>\n",
              "      <td>11.00</td>\n",
              "      <td>Standard</td>\n",
              "    </tr>\n",
              "    <tr>\n",
              "      <th>1</th>\n",
              "      <td>0004</td>\n",
              "      <td>2024-01-14 17:45:00</td>\n",
              "      <td>Martini Flight, Chicken Wing Flight</td>\n",
              "      <td>2.0</td>\n",
              "      <td>51.36</td>\n",
              "      <td>35.00</td>\n",
              "      <td>Standard</td>\n",
              "    </tr>\n",
              "    <tr>\n",
              "      <th>2</th>\n",
              "      <td>0010</td>\n",
              "      <td>2023-11-20 18:28:00</td>\n",
              "      <td>Skewer Flight, Jack Daniels</td>\n",
              "      <td>2.0</td>\n",
              "      <td>37.12</td>\n",
              "      <td>13.83</td>\n",
              "      <td>Premium</td>\n",
              "    </tr>\n",
              "    <tr>\n",
              "      <th>3</th>\n",
              "      <td>0010</td>\n",
              "      <td>2023-12-07 19:35:00</td>\n",
              "      <td>Margarita Rock Flight, Beer Flight, Hummus, Mi...</td>\n",
              "      <td>36.0</td>\n",
              "      <td>692.74</td>\n",
              "      <td>0.00</td>\n",
              "      <td>Premium</td>\n",
              "    </tr>\n",
              "    <tr>\n",
              "      <th>4</th>\n",
              "      <td>0010</td>\n",
              "      <td>2024-02-24 19:26:00</td>\n",
              "      <td>Fry Flight, Ahi Tuna Taco Flight, Frozen Marga...</td>\n",
              "      <td>3.0</td>\n",
              "      <td>64.42</td>\n",
              "      <td>22.71</td>\n",
              "      <td>Premium</td>\n",
              "    </tr>\n",
              "  </tbody>\n",
              "</table>\n",
              "</div>"
            ],
            "text/plain": [
              "  Last 4 Card Digits           Order Date  \\\n",
              "0               0000  2024-02-03 14:17:00   \n",
              "1               0004  2024-01-14 17:45:00   \n",
              "2               0010  2023-11-20 18:28:00   \n",
              "3               0010  2023-12-07 19:35:00   \n",
              "4               0010  2024-02-24 19:26:00   \n",
              "\n",
              "                                           Menu Item   Qty   Total    Tip  \\\n",
              "0  Frozen Margarita Flight, Frozen Margarita Flig...   5.0   91.89  11.00   \n",
              "1                Martini Flight, Chicken Wing Flight   2.0   51.36  35.00   \n",
              "2                        Skewer Flight, Jack Daniels   2.0   37.12  13.83   \n",
              "3  Margarita Rock Flight, Beer Flight, Hummus, Mi...  36.0  692.74   0.00   \n",
              "4  Fry Flight, Ahi Tuna Taco Flight, Frozen Marga...   3.0   64.42  22.71   \n",
              "\n",
              "  Orderer Type  \n",
              "0     Standard  \n",
              "1     Standard  \n",
              "2      Premium  \n",
              "3      Premium  \n",
              "4      Premium  "
            ]
          },
          "execution_count": 11,
          "metadata": {},
          "output_type": "execute_result"
        }
      ],
      "source": [
        "customer_avg_spending = grouped.groupby('Last 4 Card Digits')['Total'].mean().reset_index()\n",
        "\n",
        "# Calculate percentiles & Categorize\n",
        "percentiles = customer_avg_spending.Total.mean()\n",
        "customer_avg_spending['Orderer Type'] = customer_avg_spending['Total'].apply(assign_label)\n",
        "data = customer_avg_spending\n",
        "\n",
        "# Merge cluster labels with original data\n",
        "cluster = grouped.merge(customer_avg_spending[['Last 4 Card Digits', 'Orderer Type']], on='Last 4 Card Digits', how='left')\n",
        "cluster[['Last 4 Card Digits', 'Order Date', 'Menu Item', 'Qty', 'Total', 'Tip', 'Orderer Type']].head(5)"
      ]
    },
    {
      "cell_type": "markdown",
      "metadata": {
        "id": "Bm49ss8nlSJN"
      },
      "source": [
        "##### Visualizing cluster"
      ]
    },
    {
      "cell_type": "code",
      "execution_count": 12,
      "metadata": {
        "colab": {
          "base_uri": "https://localhost:8080/",
          "height": 801
        },
        "id": "xRRRcHF5lARN",
        "outputId": "77b42d2a-71c6-40ad-873c-5aa2edba59d0"
      },
      "outputs": [
        {
          "data": {
            "image/png": "[encoded data removed]",
            "text/plain": [
              "<Figure size 1000x800 with 1 Axes>"
            ]
          },
          "metadata": {},
          "output_type": "display_data"
        }
      ],
      "source": [
        "sns.set(style=\"whitegrid\")\n",
        "\n",
        "fig, ax = plt.subplots(figsize=(10, 8))\n",
        "\n",
        "colors = {'Economy': 'tab:red', 'Standard': 'tab:green', 'Premium': 'tab:blue'}\n",
        "markers = {'Economy': 'o', 'Standard': 's', 'Premium': 'D'}\n",
        "\n",
        "for order_type, color in colors.items():\n",
        "    cluster_data = data[data['Orderer Type'] == order_type]\n",
        "    ax.scatter(cluster_data['Last 4 Card Digits'], cluster_data['Total'], c=color, label=order_type, marker=markers[order_type], alpha=0.7)\n",
        "\n",
        "ax.set_xlabel('Last 4 Card Digits', fontsize=12)\n",
        "ax.set_ylabel('Average Spending', fontsize=12)\n",
        "ax.set_title('Clustering of Customers by Average Spending', fontsize=14)\n",
        "\n",
        "legend = ax.legend(title='Orderer Type', fontsize=10, title_fontsize=12)\n",
        "legend.get_title().set_fontweight('bold')\n",
        "\n",
        "plt.tight_layout()\n",
        "plt.show()"
      ]
    },
    {
      "cell_type": "markdown",
      "metadata": {
        "id": "RuD7fEqJmweJ"
      },
      "source": [
        "#### 2. Clustring based on Spending Patterns"
      ]
    },
    {
      "cell_type": "markdown",
      "metadata": {
        "id": "zqHNh-Ipno1Z"
      },
      "source": [
        "##### Feature Engineering"
      ]
    },
    {
      "cell_type": "code",
      "execution_count": 13,
      "metadata": {
        "colab": {
          "base_uri": "https://localhost:8080/",
          "height": 206
        },
        "id": "05GEYJz7n3yL",
        "outputId": "ed03a7c2-3886-487a-f857-01ef3781df8a"
      },
      "outputs": [
        {
          "data": {
            "text/html": [
              "<div>\n",
              "<style scoped>\n",
              "    .dataframe tbody tr th:only-of-type {\n",
              "        vertical-align: middle;\n",
              "    }\n",
              "\n",
              "    .dataframe tbody tr th {\n",
              "        vertical-align: top;\n",
              "    }\n",
              "\n",
              "    .dataframe thead th {\n",
              "        text-align: right;\n",
              "    }\n",
              "</style>\n",
              "<table border=\"1\" class=\"dataframe\">\n",
              "  <thead>\n",
              "    <tr style=\"text-align: right;\">\n",
              "      <th></th>\n",
              "      <th>Last 4 Card Digits</th>\n",
              "      <th>Order Date</th>\n",
              "      <th>Menu Item</th>\n",
              "      <th>Qty</th>\n",
              "      <th>Total</th>\n",
              "      <th>Tip</th>\n",
              "      <th>Orderer Type</th>\n",
              "      <th>Order Hour</th>\n",
              "      <th>Time of Day</th>\n",
              "    </tr>\n",
              "  </thead>\n",
              "  <tbody>\n",
              "    <tr>\n",
              "      <th>0</th>\n",
              "      <td>0000</td>\n",
              "      <td>2024-02-03 14:17:00</td>\n",
              "      <td>Frozen Margarita Flight, Frozen Margarita Flig...</td>\n",
              "      <td>5.0</td>\n",
              "      <td>91.89</td>\n",
              "      <td>11.00</td>\n",
              "      <td>Standard</td>\n",
              "      <td>14</td>\n",
              "      <td>Evening</td>\n",
              "    </tr>\n",
              "    <tr>\n",
              "      <th>1</th>\n",
              "      <td>0004</td>\n",
              "      <td>2024-01-14 17:45:00</td>\n",
              "      <td>Martini Flight, Chicken Wing Flight</td>\n",
              "      <td>2.0</td>\n",
              "      <td>51.36</td>\n",
              "      <td>35.00</td>\n",
              "      <td>Standard</td>\n",
              "      <td>17</td>\n",
              "      <td>Evening</td>\n",
              "    </tr>\n",
              "    <tr>\n",
              "      <th>2</th>\n",
              "      <td>0010</td>\n",
              "      <td>2023-11-20 18:28:00</td>\n",
              "      <td>Skewer Flight, Jack Daniels</td>\n",
              "      <td>2.0</td>\n",
              "      <td>37.12</td>\n",
              "      <td>13.83</td>\n",
              "      <td>Premium</td>\n",
              "      <td>18</td>\n",
              "      <td>Night</td>\n",
              "    </tr>\n",
              "    <tr>\n",
              "      <th>3</th>\n",
              "      <td>0010</td>\n",
              "      <td>2023-12-07 19:35:00</td>\n",
              "      <td>Margarita Rock Flight, Beer Flight, Hummus, Mi...</td>\n",
              "      <td>36.0</td>\n",
              "      <td>692.74</td>\n",
              "      <td>0.00</td>\n",
              "      <td>Premium</td>\n",
              "      <td>19</td>\n",
              "      <td>Night</td>\n",
              "    </tr>\n",
              "    <tr>\n",
              "      <th>4</th>\n",
              "      <td>0010</td>\n",
              "      <td>2024-02-24 19:26:00</td>\n",
              "      <td>Fry Flight, Ahi Tuna Taco Flight, Frozen Marga...</td>\n",
              "      <td>3.0</td>\n",
              "      <td>64.42</td>\n",
              "      <td>22.71</td>\n",
              "      <td>Premium</td>\n",
              "      <td>19</td>\n",
              "      <td>Night</td>\n",
              "    </tr>\n",
              "  </tbody>\n",
              "</table>\n",
              "</div>"
            ],
            "text/plain": [
              "  Last 4 Card Digits          Order Date  \\\n",
              "0               0000 2024-02-03 14:17:00   \n",
              "1               0004 2024-01-14 17:45:00   \n",
              "2               0010 2023-11-20 18:28:00   \n",
              "3               0010 2023-12-07 19:35:00   \n",
              "4               0010 2024-02-24 19:26:00   \n",
              "\n",
              "                                           Menu Item   Qty   Total    Tip  \\\n",
              "0  Frozen Margarita Flight, Frozen Margarita Flig...   5.0   91.89  11.00   \n",
              "1                Martini Flight, Chicken Wing Flight   2.0   51.36  35.00   \n",
              "2                        Skewer Flight, Jack Daniels   2.0   37.12  13.83   \n",
              "3  Margarita Rock Flight, Beer Flight, Hummus, Mi...  36.0  692.74   0.00   \n",
              "4  Fry Flight, Ahi Tuna Taco Flight, Frozen Marga...   3.0   64.42  22.71   \n",
              "\n",
              "  Orderer Type  Order Hour Time of Day  \n",
              "0     Standard          14     Evening  \n",
              "1     Standard          17     Evening  \n",
              "2      Premium          18       Night  \n",
              "3      Premium          19       Night  \n",
              "4      Premium          19       Night  "
            ]
          },
          "execution_count": 13,
          "metadata": {},
          "output_type": "execute_result"
        }
      ],
      "source": [
        "cluster['Order Date'] = pd.to_datetime(cluster['Order Date'])\n",
        "cluster['Order Hour'] = cluster['Order Date'].dt.hour\n",
        "cluster['Time of Day'] = cluster['Order Hour'].apply(assign_time_label)\n",
        "cluster.head(5)"
      ]
    },
    {
      "cell_type": "markdown",
      "metadata": {
        "id": "2mZmo6wUPtwu"
      },
      "source": [
        "## B) Personalized Marketing Campaigns\n",
        "\n"
      ]
    },
    {
      "cell_type": "markdown",
      "metadata": {
        "id": "ejswKPL4JpqR"
      },
      "source": [
        "### Point 1 & 2\n"
      ]
    },
    {
      "cell_type": "markdown",
      "metadata": {
        "id": "JpWmr0cPQmYX"
      },
      "source": [
        "##### General Level (Special Day Offer)"
      ]
    },
    {
      "cell_type": "code",
      "execution_count": 14,
      "metadata": {
        "colab": {
          "base_uri": "https://localhost:8080/"
        },
        "id": "_Qr1m4uVURrQ",
        "outputId": "a409503d-e0db-4143-ab60-703fe4c1f33c"
      },
      "outputs": [
        {
          "name": "stdout",
          "output_type": "stream",
          "text": [
            "Subject: Special Thanks Giving Day Offer for Our Valued Customer!\n",
            "\n",
            "Dear Shaffay,\n",
            "\n",
            "We at AIO are thrilled to celebrate Thanks Giving Day with you! To show our appreciation, we are offering a special discount on our most loved menu items. \n",
            "\n",
            "As a token of our gratitude, we are offering a 10% discount on the following bestselling items:\n",
            "- Cast Iron Hash Flight\n",
            "- Beignet Flight\n",
            "- Margarita Rock Flight\n",
            "- Fettuccine Alfredo\n",
            "\n",
            "The total price of these items is $71, but with the 10% discount, the price comes down to $63.9.\n",
            "\n",
            "We hope you take advantage of this special offer and enjoy these delicious dishes with your loved ones on this special day.\n",
            "\n",
            "Regards,\n",
            "AIO Team\n"
          ]
        }
      ],
      "source": [
        "# User Choice\n",
        "format = \"email\"\n",
        "occasion = \"Thanks Giving Day\" # (New Years Eve, Valentine, USA Independence Day, Halloween, Christmas)\n",
        "name = \"shaffay\"\n",
        "discount_percent = 10\n",
        "\n",
        "# Based On Data\n",
        "top_items, _  = top_item_finder()\n",
        "initial_price = int(sum(_))\n",
        "after_discount = initial_price - (initial_price * (discount_percent/100))\n",
        "\n",
        "message = special_day_offer(format, name, occasion, top_items, initial_price, discount_percent, after_discount)\n",
        "print(message)"
      ]
    },
    {
      "cell_type": "markdown",
      "metadata": {
        "id": "rZkEe7_-Qq9A"
      },
      "source": [
        "##### Customer Level (Birthday Offer)"
      ]
    },
    {
      "cell_type": "code",
      "execution_count": 19,
      "metadata": {
        "id": "GRhOQ-YiTqjZ"
      },
      "outputs": [],
      "source": [
        "# User Choice\n",
        "format = \"small message\"\n",
        "birthday = \"1990-10-08\"\n",
        "discount_percent = 10\n",
        "\n",
        "# Based On Data\n",
        "birthday_data = find_birthday(int(birthday.split(\"-\")[0]), int(birthday.split(\"-\")[1]), int(birthday.split(\"-\")[2]), ungrouped).iloc[0]\n",
        "last_4_digits = birthday_data[\"Last 4 Card Digits\"]\n",
        "\n",
        "name = birthday_data[\"Name\"]\n",
        "top_items, _ = top_ordered_items(last_4_digits, ungrouped)\n",
        "initial_price = int(sum(_))\n",
        "after_discount = initial_price - (initial_price * (discount_percent/100))"
      ]
    },
    {
      "cell_type": "code",
      "execution_count": 27,
      "metadata": {
        "colab": {
          "base_uri": "https://localhost:8080/"
        },
        "id": "88s6gfZLSMcA",
        "outputId": "edfdc33d-733a-41f3-ee3d-e5458831d2df"
      },
      "outputs": [
        {
          "name": "stdout",
          "output_type": "stream",
          "text": [
            "\"Happy Birthday FECH! 🎉 As a special birthday treat, we're offering you a 10% discount on your favorite bundle items - Martini Flight and Margarita Rock Flight. You can now enjoy these items for just $43.20. Come celebrate your special day with us at AIO! 🎂🥳\"\n"
          ]
        }
      ],
      "source": [
        "message = birthday_message(format, name, birthday, top_items, initial_price, discount_percent, after_discount)\n",
        "print(message)"
      ]
    },
    {
      "cell_type": "markdown",
      "metadata": {
        "id": "9KT5Em9tQuZ5"
      },
      "source": [
        "##### Group Level (Cluster Based Offer)\n",
        "- Group based on Spending Pattern (Premium, Standard, Economy)\n",
        "- Group based on Customer activity times (Morning, Evening, Mid-day)\n",
        "- Group based on Food Preference (Food category, Most Selling Product)"
      ]
    },
    {
      "cell_type": "code",
      "execution_count": 20,
      "metadata": {
        "colab": {
          "base_uri": "https://localhost:8080/"
        },
        "id": "imKHkQUUuWME",
        "outputId": "9c96925b-4ac4-4ae3-e163-fd4be0765c4d"
      },
      "outputs": [
        {
          "name": "stdout",
          "output_type": "stream",
          "text": [
            "Customer DBAI belongs to Premium orderer type and Night time.\n"
          ]
        }
      ],
      "source": [
        "# User Choice\n",
        "format = \"email\"\n",
        "name = \"DBAI\"\n",
        "\n",
        "# Based On Data\n",
        "fp, _  = top_item_finder()\n",
        "initial_price = int(sum(_))\n",
        "\n",
        "code = extract_last_4_digits(ungrouped, name)\n",
        "\n",
        "### Spending patteren will be used to specify discounts\n",
        "sp = cluster.loc[cluster['Last 4 Card Digits'] == code, 'Orderer Type'].values[0]\n",
        "discount_percent = get_discount(sp)\n",
        "after_discount = initial_price - (initial_price * (discount_percent/100))\n",
        "\n",
        "### Activity times ill be used to set email time\n",
        "at = cluster.loc[cluster['Last 4 Card Digits'] == code, 'Time of Day'].values[0]\n",
        "print(f\"Customer {name} belongs to {sp} orderer type and {at} time.\")"
      ]
    },
    {
      "cell_type": "code",
      "execution_count": 21,
      "metadata": {
        "colab": {
          "base_uri": "https://localhost:8080/"
        },
        "id": "Ai3zSXnAyAVM",
        "outputId": "d26151ad-efeb-4331-d3f9-3de983336f16"
      },
      "outputs": [
        {
          "name": "stdout",
          "output_type": "stream",
          "text": [
            "Subject: Special Offer Just for You, DBAI!\n",
            "\n",
            "Dear DBAI,\n",
            "\n",
            "We at AIO are thrilled to offer you a special discount on your most liked items. As a valued customer, we want to show our appreciation by giving you a 5% discount on the following items:\n",
            "- Cast Iron Hash Flight\n",
            "- Beignet Flight\n",
            "- Margarita Rock Flight\n",
            "- Fettuccine Alfredo\n",
            "\n",
            "The total price of these items comes to $71, but with the 5% discount, you will only pay $67.45.\n",
            "\n",
            "We hope you take advantage of this special offer and visit us soon to enjoy your favorite dishes at a discounted price.\n",
            "\n",
            "Regards,\n",
            "AIO Team\n"
          ]
        }
      ],
      "source": [
        "message = cluster_based_offer(format, name, fp, initial_price, discount_percent, after_discount)\n",
        "print(message)"
      ]
    },
    {
      "cell_type": "markdown",
      "metadata": {
        "id": "ERdTsrSEBRVX"
      },
      "source": [
        "## C) Customer Segmentation and Churn Prediction\n"
      ]
    },
    {
      "cell_type": "markdown",
      "metadata": {
        "id": "LMooUMQUAeDK"
      },
      "source": [
        "#### Mapped Data"
      ]
    },
    {
      "cell_type": "code",
      "execution_count": 23,
      "metadata": {
        "colab": {
          "base_uri": "https://localhost:8080/",
          "height": 238
        },
        "id": "kzN5qf7WJUQH",
        "outputId": "a7b99383-e45b-432c-8aa6-c654c8abfb84"
      },
      "outputs": [
        {
          "data": {
            "text/html": [
              "<div>\n",
              "<style scoped>\n",
              "    .dataframe tbody tr th:only-of-type {\n",
              "        vertical-align: middle;\n",
              "    }\n",
              "\n",
              "    .dataframe tbody tr th {\n",
              "        vertical-align: top;\n",
              "    }\n",
              "\n",
              "    .dataframe thead th {\n",
              "        text-align: right;\n",
              "    }\n",
              "</style>\n",
              "<table border=\"1\" class=\"dataframe\">\n",
              "  <thead>\n",
              "    <tr style=\"text-align: right;\">\n",
              "      <th></th>\n",
              "      <th>Menu Item</th>\n",
              "      <th>Qty</th>\n",
              "      <th>Total</th>\n",
              "      <th>Tip</th>\n",
              "      <th>Date_x</th>\n",
              "      <th>Time</th>\n",
              "    </tr>\n",
              "    <tr>\n",
              "      <th>Last 4 Card Digits</th>\n",
              "      <th></th>\n",
              "      <th></th>\n",
              "      <th></th>\n",
              "      <th></th>\n",
              "      <th></th>\n",
              "      <th></th>\n",
              "    </tr>\n",
              "  </thead>\n",
              "  <tbody>\n",
              "    <tr>\n",
              "      <th>8834</th>\n",
              "      <td>Margarita Rock Flight, Elysian Space Dust, Fli...</td>\n",
              "      <td>11.0</td>\n",
              "      <td>162.62</td>\n",
              "      <td>2.00</td>\n",
              "      <td>2023-11-05</td>\n",
              "      <td>12:49:00</td>\n",
              "    </tr>\n",
              "    <tr>\n",
              "      <th>5709</th>\n",
              "      <td>HH Mimosa Flight, HH Mimosa Flight, Salad Flig...</td>\n",
              "      <td>4.0</td>\n",
              "      <td>72.08</td>\n",
              "      <td>20.43</td>\n",
              "      <td>2023-11-05</td>\n",
              "      <td>13:58:00</td>\n",
              "    </tr>\n",
              "    <tr>\n",
              "      <th>7260</th>\n",
              "      <td>Titos, HH Mimosa Flight</td>\n",
              "      <td>1.5</td>\n",
              "      <td>21.33</td>\n",
              "      <td>5.00</td>\n",
              "      <td>2023-11-05</td>\n",
              "      <td>11:27:00</td>\n",
              "    </tr>\n",
              "    <tr>\n",
              "      <th>7940</th>\n",
              "      <td>Mojito Flight, Slider Flight</td>\n",
              "      <td>2.0</td>\n",
              "      <td>48.07</td>\n",
              "      <td>9.61</td>\n",
              "      <td>2023-11-05</td>\n",
              "      <td>18:08:00</td>\n",
              "    </tr>\n",
              "    <tr>\n",
              "      <th>8465</th>\n",
              "      <td>Jack Daniels</td>\n",
              "      <td>1.0</td>\n",
              "      <td>13.12</td>\n",
              "      <td>2.62</td>\n",
              "      <td>2023-11-05</td>\n",
              "      <td>17:56:00</td>\n",
              "    </tr>\n",
              "  </tbody>\n",
              "</table>\n",
              "</div>"
            ],
            "text/plain": [
              "                                                            Menu Item   Qty  \\\n",
              "Last 4 Card Digits                                                            \n",
              "8834                Margarita Rock Flight, Elysian Space Dust, Fli...  11.0   \n",
              "5709                HH Mimosa Flight, HH Mimosa Flight, Salad Flig...   4.0   \n",
              "7260                                          Titos, HH Mimosa Flight   1.5   \n",
              "7940                                     Mojito Flight, Slider Flight   2.0   \n",
              "8465                                                     Jack Daniels   1.0   \n",
              "\n",
              "                     Total    Tip      Date_x      Time  \n",
              "Last 4 Card Digits                                       \n",
              "8834                162.62   2.00  2023-11-05  12:49:00  \n",
              "5709                 72.08  20.43  2023-11-05  13:58:00  \n",
              "7260                 21.33   5.00  2023-11-05  11:27:00  \n",
              "7940                 48.07   9.61  2023-11-05  18:08:00  \n",
              "8465                 13.12   2.62  2023-11-05  17:56:00  "
            ]
          },
          "execution_count": 23,
          "metadata": {},
          "output_type": "execute_result"
        }
      ],
      "source": [
        "ungrouped_data = pd.read_csv('data/Churn.csv', index_col=0)\n",
        "ungrouped_data.head(5)"
      ]
    },
    {
      "cell_type": "markdown",
      "metadata": {
        "id": "RTYKJbUz6YCZ"
      },
      "source": [
        "### Global Item Finder\n",
        "\n"
      ]
    },
    {
      "cell_type": "code",
      "execution_count": 24,
      "metadata": {
        "colab": {
          "base_uri": "https://localhost:8080/"
        },
        "id": "GZa0rUTC6jSt",
        "outputId": "edf18af1-3af0-4495-fcb9-ec7007f3b50f"
      },
      "outputs": [
        {
          "data": {
            "text/plain": [
              "(['Cast Iron Hash Flight',\n",
              "  'Beignet Flight',\n",
              "  'Margarita Rock Flight',\n",
              "  'Fettuccine Alfredo'],\n",
              " [17.95, 10.95, 24.0, 18.95])"
            ]
          },
          "execution_count": 24,
          "metadata": {},
          "output_type": "execute_result"
        }
      ],
      "source": [
        "top_item_finder()"
      ]
    },
    {
      "cell_type": "markdown",
      "metadata": {
        "id": "6QuaFHKu6sD4"
      },
      "source": [
        "### Individual Item Finder\n"
      ]
    },
    {
      "cell_type": "code",
      "execution_count": null,
      "metadata": {},
      "outputs": [],
      "source": [
        "churn_verifier(ungrouped_data, int(\"7260\"))"
      ]
    },
    {
      "cell_type": "markdown",
      "metadata": {
        "id": "9TE6fjdL7C4P"
      },
      "source": [
        "### Email"
      ]
    },
    {
      "cell_type": "code",
      "execution_count": 44,
      "metadata": {
        "colab": {
          "base_uri": "https://localhost:8080/"
        },
        "id": "9D6eFUPY4tTL",
        "outputId": "45c2aa1f-d368-411d-9f8d-dad4fa6480b5"
      },
      "outputs": [
        {
          "name": "stdout",
          "output_type": "stream",
          "text": [
            "Dear HCGA, \n",
            "We just wanted to take a moment to express our gratitude for being a valued customer at AIO. Your support means the world to us. As a token of our appreciation, we are delighted to offer you a personalized 10% discount on your favorite items, HH Mimosa Flight and Titos, bringing the price down to just $24.3. We hope to see you again soon!\n"
          ]
        }
      ],
      "source": [
        "# User Choice\n",
        "format = \"small message\"\n",
        "code = \"7260\"\n",
        "name = ungrouped.loc[ungrouped['Last 4 Card Digits'] == name, 'Name'][0]\n",
        "discount_percent = 10\n",
        "\n",
        "# Based On Data\n",
        "top_items, prices = churn_verifier(ungrouped_data, int(code))\n",
        "top_items = top_items\n",
        "initial_price = sum(prices)\n",
        "after_discount = initial_price - (initial_price * (discount_percent/100))\n",
        "\n",
        "message = churn_message(format, name, top_items, initial_price, discount_percent, after_discount)\n",
        "print(message)"
      ]
    }
  ],
  "metadata": {
    "colab": {
      "collapsed_sections": [
        "U-JtqQMHgOtk",
        "vU5oInl2qFAp",
        "4jw9Y3Z0qzPf",
        "hPiGJzHlgZIx",
        "0pAM1QP3Ohc3",
        "c5RGJyOPO44P",
        "OabR1aoCkRzf",
        "Bm49ss8nlSJN",
        "zqHNh-Ipno1Z",
        "Uw6siLtdnzoM",
        "rZkEe7_-Qq9A",
        "9KT5Em9tQuZ5",
        "LMooUMQUAeDK",
        "RTYKJbUz6YCZ",
        "6QuaFHKu6sD4"
      ],
      "provenance": []
    },
    "kernelspec": {
      "display_name": "Python 3",
      "name": "python3"
    },
    "language_info": {
      "codemirror_mode": {
        "name": "ipython",
        "version": 3
      },
      "file_extension": ".py",
      "mimetype": "text/x-python",
      "name": "python",
      "nbconvert_exporter": "python",
      "pygments_lexer": "ipython3",
      "version": "3.10.12"
    }
  },
  "nbformat": 4,
  "nbformat_minor": 0
}
